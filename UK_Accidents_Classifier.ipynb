{
 "cells": [
  {
   "cell_type": "markdown",
   "metadata": {
    "colab_type": "text",
    "id": "HMO4Q-rPCWdR"
   },
   "source": [
    "# UK Traffic Safety Data 2005-2017\n",
    "\n",
    "data source:\n",
    "[Kaggle Data Set](https://www.kaggle.com/tsiaras/uk-road-safety-accidents-and-vehicles)\n",
    "\n",
    "P: Preprocess (Scale, normalize, dummies, pipeline)  \n",
    "S: Split (train/validate/test sets)  \n",
    "D: Define (the model to use)  \n",
    "F: Fit  \n",
    "P: Predict  \n",
    "E: Evaluate (metrics, classification report, cross validation)  \n",
    "O: Optimise (GridSearch, RandomizedSearch)  \n",
    "S: Save  \n"
   ]
  },
  {
   "cell_type": "code",
   "execution_count": 2,
   "metadata": {
    "colab": {
     "base_uri": "https://localhost:8080/",
     "height": 118
    },
    "colab_type": "code",
    "id": "k6DMdbk0Ba6P",
    "outputId": "ff06de29-9861-4c44-c54b-e7cc96872c4c"
   },
   "outputs": [],
   "source": [
    "#from google.colab import drive\n",
    "#drive.mount('/content/drive')"
   ]
  },
  {
   "cell_type": "code",
   "execution_count": 3,
   "metadata": {
    "colab": {
     "base_uri": "https://localhost:8080/",
     "height": 212
    },
    "colab_type": "code",
    "id": "28HBu9f8FsWS",
    "outputId": "c54112f9-404c-4684-cdb6-e695becfee79"
   },
   "outputs": [],
   "source": [
    "#!pip install mplleaflet"
   ]
  },
  {
   "cell_type": "code",
   "execution_count": 4,
   "metadata": {
    "colab": {},
    "colab_type": "code",
    "id": "OXbyQLj4CEXB"
   },
   "outputs": [],
   "source": [
    "#homedir='/content/drive/My Drive/Colab Data/'\n",
    "#datadir=homedir+'data/UK-Traffic-Safety/'"
   ]
  },
  {
   "cell_type": "code",
   "execution_count": 71,
   "metadata": {
    "colab": {},
    "colab_type": "code",
    "id": "Rvv6dbrRFeAg"
   },
   "outputs": [],
   "source": [
    "import numpy as np\n",
    "import matplotlib.pyplot as plt\n",
    "from matplotlib import cm\n",
    "import seaborn as sn\n",
    "import pandas as pd\n",
    "from sklearn.model_selection import train_test_split\n",
    "from sklearn import preprocessing\n",
    "from sklearn.ensemble import GradientBoostingClassifier, RandomForestClassifier\n",
    "from sklearn.metrics import classification_report, confusion_matrix, roc_curve, auc\n",
    "import datetime as dt\n",
    "import cartopy\n",
    "import cartopy.crs as ccrs\n",
    "plt.style.use('seaborn-white')\n",
    "%matplotlib notebook"
   ]
  },
  {
   "cell_type": "markdown",
   "metadata": {},
   "source": [
    "## Load the Data\n",
    "Load the accidents data"
   ]
  },
  {
   "cell_type": "code",
   "execution_count": 6,
   "metadata": {
    "colab": {
     "base_uri": "https://localhost:8080/",
     "height": 50
    },
    "colab_type": "code",
    "id": "UDKKrqrMFihl",
    "outputId": "f694dddf-e82c-4dca-a053-6e9c07b34f93"
   },
   "outputs": [
    {
     "name": "stderr",
     "output_type": "stream",
     "text": [
      "/home/mogmelon/anaconda3/lib/python3.7/site-packages/IPython/core/interactiveshell.py:3063: DtypeWarning: Columns (0) have mixed types. Specify dtype option on import or set low_memory=False.\n",
      "  interactivity=interactivity, compiler=compiler, result=result)\n"
     ]
    }
   ],
   "source": [
    "#accidents = pd.read_csv(datadir+'Accident_Information.zip')\n",
    "accidents = pd.read_csv('./data/Accident_Information.csv')"
   ]
  },
  {
   "cell_type": "code",
   "execution_count": 7,
   "metadata": {},
   "outputs": [
    {
     "data": {
      "text/plain": [
       "(2047256, 34)"
      ]
     },
     "execution_count": 7,
     "metadata": {},
     "output_type": "execute_result"
    }
   ],
   "source": [
    "accidents.shape"
   ]
  },
  {
   "cell_type": "markdown",
   "metadata": {},
   "source": [
    "This is a pretty big dataset so let's check the columns and data types. "
   ]
  },
  {
   "cell_type": "code",
   "execution_count": 8,
   "metadata": {
    "colab": {
     "base_uri": "https://localhost:8080/",
     "height": 667
    },
    "colab_type": "code",
    "id": "LEsycAFNFqtU",
    "outputId": "a855859b-b524-454b-8bf0-dfbb8d68f291"
   },
   "outputs": [
    {
     "name": "stdout",
     "output_type": "stream",
     "text": [
      "<class 'pandas.core.frame.DataFrame'>\n",
      "RangeIndex: 2047256 entries, 0 to 2047255\n",
      "Data columns (total 34 columns):\n",
      "Accident_Index                                 object\n",
      "1st_Road_Class                                 object\n",
      "1st_Road_Number                                float64\n",
      "2nd_Road_Class                                 object\n",
      "2nd_Road_Number                                float64\n",
      "Accident_Severity                              object\n",
      "Carriageway_Hazards                            object\n",
      "Date                                           object\n",
      "Day_of_Week                                    object\n",
      "Did_Police_Officer_Attend_Scene_of_Accident    float64\n",
      "Junction_Control                               object\n",
      "Junction_Detail                                object\n",
      "Latitude                                       float64\n",
      "Light_Conditions                               object\n",
      "Local_Authority_(District)                     object\n",
      "Local_Authority_(Highway)                      object\n",
      "Location_Easting_OSGR                          float64\n",
      "Location_Northing_OSGR                         float64\n",
      "Longitude                                      float64\n",
      "LSOA_of_Accident_Location                      object\n",
      "Number_of_Casualties                           int64\n",
      "Number_of_Vehicles                             int64\n",
      "Pedestrian_Crossing-Human_Control              float64\n",
      "Pedestrian_Crossing-Physical_Facilities        float64\n",
      "Police_Force                                   object\n",
      "Road_Surface_Conditions                        object\n",
      "Road_Type                                      object\n",
      "Special_Conditions_at_Site                     object\n",
      "Speed_limit                                    float64\n",
      "Time                                           object\n",
      "Urban_or_Rural_Area                            object\n",
      "Weather_Conditions                             object\n",
      "Year                                           int64\n",
      "InScotland                                     object\n",
      "dtypes: float64(10), int64(3), object(21)\n",
      "memory usage: 531.1+ MB\n",
      "None\n"
     ]
    }
   ],
   "source": [
    "print(accidents.info())"
   ]
  },
  {
   "cell_type": "markdown",
   "metadata": {},
   "source": [
    "The time and date aren't datetime objects so let's fix that."
   ]
  },
  {
   "cell_type": "code",
   "execution_count": 9,
   "metadata": {
    "colab": {},
    "colab_type": "code",
    "id": "-xrV_vdoF2mg"
   },
   "outputs": [],
   "source": [
    "accidents['Time']= pd.to_datetime(accidents['Time'], format=\"%H:%M\").dt.time\n",
    "accidents['Date']= pd.to_datetime(accidents['Date'], format=\"%Y-%m-%d\")"
   ]
  },
  {
   "cell_type": "markdown",
   "metadata": {},
   "source": [
    "Im going to use a classifier with dummy variables. Times and dates are continuous so let's group them into periods of the day and seasons of the year."
   ]
  },
  {
   "cell_type": "code",
   "execution_count": 10,
   "metadata": {
    "colab": {},
    "colab_type": "code",
    "id": "COHWAObcF53k"
   },
   "outputs": [],
   "source": [
    "def period(hour):\n",
    "    if hour >= dt.time(7,0) and hour < dt.time(9,30):\n",
    "        return \"morning_rush\"\n",
    "    elif hour >= dt.time(9,30) and hour < dt.time(15,0):\n",
    "        return \"daytime\"\n",
    "    elif hour >= dt.time(15,0) and hour < dt.time(18,0):\n",
    "        return \"evening_rush\"\n",
    "    elif hour >= dt.time(18,0) and hour < dt.time(0,0):\n",
    "        return \"evening\"\n",
    "    else:\n",
    "        return \"night\"\n",
    "    \n",
    "accidents['Period'] = accidents['Time'].apply(period)  "
   ]
  },
  {
   "cell_type": "code",
   "execution_count": 11,
   "metadata": {
    "colab": {},
    "colab_type": "code",
    "id": "pa3-AimlF8Dx"
   },
   "outputs": [],
   "source": [
    "def season(month):\n",
    "    if month >= 3 and month < 6:\n",
    "        return \"sprint\"\n",
    "    elif month >= 6 and month < 9:\n",
    "        return \"summer\"\n",
    "    elif month >= 9 and month < 11:\n",
    "        return \"autumn\"\n",
    "    else:\n",
    "        return \"winter\"\n",
    "accidents['Month']=pd.DatetimeIndex(accidents['Date']).month\n",
    "accidents['Season'] = accidents['Month'].apply(season)  "
   ]
  },
  {
   "cell_type": "markdown",
   "metadata": {},
   "source": [
    "Some columns contain a lot of NaN values. Let's have a look at these and start eliminating some features which are unlikely to add a lot of value to the classifier."
   ]
  },
  {
   "cell_type": "code",
   "execution_count": 12,
   "metadata": {
    "colab": {
     "base_uri": "https://localhost:8080/",
     "height": 635
    },
    "colab_type": "code",
    "id": "yC3_k-vMF-VU",
    "outputId": "63ef14a7-b6b1-4dcb-f082-70411a8f08e7"
   },
   "outputs": [
    {
     "name": "stdout",
     "output_type": "stream",
     "text": [
      "Accident_Index                                      0\n",
      "1st_Road_Class                                      0\n",
      "1st_Road_Number                                     2\n",
      "2nd_Road_Class                                 844272\n",
      "2nd_Road_Number                                 17593\n",
      "Accident_Severity                                   0\n",
      "Carriageway_Hazards                                 0\n",
      "Date                                                0\n",
      "Day_of_Week                                         0\n",
      "Did_Police_Officer_Attend_Scene_of_Accident       278\n",
      "Junction_Control                                    0\n",
      "Junction_Detail                                     0\n",
      "Latitude                                          174\n",
      "Light_Conditions                                    0\n",
      "Local_Authority_(District)                          0\n",
      "Local_Authority_(Highway)                           0\n",
      "Location_Easting_OSGR                             164\n",
      "Location_Northing_OSGR                            164\n",
      "Longitude                                         175\n",
      "LSOA_of_Accident_Location                      144953\n",
      "Number_of_Casualties                                0\n",
      "Number_of_Vehicles                                  0\n",
      "Pedestrian_Crossing-Human_Control                2920\n",
      "Pedestrian_Crossing-Physical_Facilities          3560\n",
      "Police_Force                                        0\n",
      "Road_Surface_Conditions                             0\n",
      "Road_Type                                           0\n",
      "Special_Conditions_at_Site                          0\n",
      "Speed_limit                                        37\n",
      "Time                                              156\n",
      "Urban_or_Rural_Area                                 0\n",
      "Weather_Conditions                                  0\n",
      "Year                                                0\n",
      "InScotland                                         53\n",
      "Period                                              0\n",
      "Month                                               0\n",
      "Season                                              0\n",
      "dtype: int64\n"
     ]
    }
   ],
   "source": [
    "print(accidents.isna().sum())"
   ]
  },
  {
   "cell_type": "markdown",
   "metadata": {},
   "source": [
    "These are the columns with a large number of NaNs or or columns which are unlikely to be useful in classification"
   ]
  },
  {
   "cell_type": "code",
   "execution_count": 13,
   "metadata": {
    "colab": {},
    "colab_type": "code",
    "id": "rrh074EbGAUN"
   },
   "outputs": [],
   "source": [
    "drop_cols=['2nd_Road_Class', '2nd_Road_Number', 'Did_Police_Officer_Attend_Scene_of_Accident', \n",
    "           'LSOA_of_Accident_Location', 'Pedestrian_Crossing-Human_Control', \n",
    "           'Local_Authority_(District)', 'Local_Authority_(Highway)',\n",
    "           'Pedestrian_Crossing-Physical_Facilities', 'InScotland', 'Time', 'Month', 'Date']"
   ]
  },
  {
   "cell_type": "code",
   "execution_count": 14,
   "metadata": {
    "colab": {},
    "colab_type": "code",
    "id": "MLW_LbT1GDIW"
   },
   "outputs": [],
   "source": [
    "accidents.drop(columns=drop_cols, inplace=True)"
   ]
  },
  {
   "cell_type": "markdown",
   "metadata": {},
   "source": [
    "Let's check again how many NaNs are left. There aren't many and we have plenty of data so we will remove these rows. "
   ]
  },
  {
   "cell_type": "code",
   "execution_count": 15,
   "metadata": {},
   "outputs": [
    {
     "name": "stdout",
     "output_type": "stream",
     "text": [
      "Accident_Index                  0\n",
      "1st_Road_Class                  0\n",
      "1st_Road_Number                 2\n",
      "Accident_Severity               0\n",
      "Carriageway_Hazards             0\n",
      "Day_of_Week                     0\n",
      "Junction_Control                0\n",
      "Junction_Detail                 0\n",
      "Latitude                      174\n",
      "Light_Conditions                0\n",
      "Location_Easting_OSGR         164\n",
      "Location_Northing_OSGR        164\n",
      "Longitude                     175\n",
      "Number_of_Casualties            0\n",
      "Number_of_Vehicles              0\n",
      "Police_Force                    0\n",
      "Road_Surface_Conditions         0\n",
      "Road_Type                       0\n",
      "Special_Conditions_at_Site      0\n",
      "Speed_limit                    37\n",
      "Urban_or_Rural_Area             0\n",
      "Weather_Conditions              0\n",
      "Year                            0\n",
      "Period                          0\n",
      "Season                          0\n",
      "dtype: int64\n"
     ]
    }
   ],
   "source": [
    "print(accidents.isna().sum())"
   ]
  },
  {
   "cell_type": "code",
   "execution_count": 16,
   "metadata": {
    "colab": {},
    "colab_type": "code",
    "id": "3lZPasGJGEpi"
   },
   "outputs": [],
   "source": [
    "accidents = accidents.dropna()"
   ]
  },
  {
   "cell_type": "markdown",
   "metadata": {},
   "source": [
    "The Accident_Index is no use for classification, but I'll save it for later or for joining the vehicles data set if required.  "
   ]
  },
  {
   "cell_type": "code",
   "execution_count": 17,
   "metadata": {
    "colab": {},
    "colab_type": "code",
    "id": "_zOoveDcGZla"
   },
   "outputs": [],
   "source": [
    "accidents_index=['Accident_Index']\n",
    "accidents.drop(columns='Accident_Index', inplace=True)"
   ]
  },
  {
   "cell_type": "markdown",
   "metadata": {},
   "source": [
    "## Preprocessing\n",
    "I'm intending to use a Gradient Boosted classifier or Random Forest. In sk-learn these require numerical features so I need to select the training columns and create dummy variables from any categorical columns. "
   ]
  },
  {
   "cell_type": "code",
   "execution_count": 18,
   "metadata": {
    "colab": {},
    "colab_type": "code",
    "id": "HzgaYPk5Gbjc"
   },
   "outputs": [],
   "source": [
    "train_cols=['1st_Road_Class', '1st_Road_Number', 'Carriageway_Hazards',\n",
    "               'Day_of_Week', 'Junction_Control', 'Junction_Detail', 'Latitude', \n",
    "               'Light_Conditions', 'Longitude', 'Number_of_Casualties', 'Number_of_Vehicles', \n",
    "               'Road_Surface_Conditions', 'Road_Type', 'Special_Conditions_at_Site',\n",
    "               'Speed_limit', 'Urban_or_Rural_Area', 'Weather_Conditions', 'Year', 'Period', 'Season']"
   ]
  },
  {
   "cell_type": "code",
   "execution_count": 19,
   "metadata": {
    "colab": {},
    "colab_type": "code",
    "id": "AKGLuUjhGeGB"
   },
   "outputs": [],
   "source": [
    "categorical_cols=['1st_Road_Class', 'Carriageway_Hazards', 'Day_of_Week', \n",
    "                   'Junction_Control', 'Junction_Detail', 'Light_Conditions',\n",
    "                   'Road_Surface_Conditions', 'Road_Type', 'Special_Conditions_at_Site',\n",
    "                   'Urban_or_Rural_Area', 'Weather_Conditions', 'Year', 'Period', 'Season']"
   ]
  },
  {
   "cell_type": "markdown",
   "metadata": {},
   "source": [
    "separate remain columns as numerical"
   ]
  },
  {
   "cell_type": "code",
   "execution_count": 20,
   "metadata": {
    "colab": {},
    "colab_type": "code",
    "id": "TKwtj98QGf3S"
   },
   "outputs": [
    {
     "data": {
      "text/plain": [
       "['Speed_limit',\n",
       " 'Number_of_Casualties',\n",
       " 'Longitude',\n",
       " 'Number_of_Vehicles',\n",
       " 'Latitude',\n",
       " '1st_Road_Number']"
      ]
     },
     "execution_count": 20,
     "metadata": {},
     "output_type": "execute_result"
    }
   ],
   "source": [
    "numerical_cols=list(set(train_cols)-set(categorical_cols))\n",
    "numerical_cols"
   ]
  },
  {
   "cell_type": "markdown",
   "metadata": {},
   "source": [
    "## Split \n",
    "Separate into features (X) and target (y). Im also going to take a quick look at the fatal accidents and save a separate dataframe to use later. "
   ]
  },
  {
   "cell_type": "code",
   "execution_count": 21,
   "metadata": {
    "colab": {},
    "colab_type": "code",
    "id": "-NKs0JPbGhHt"
   },
   "outputs": [],
   "source": [
    "X=accidents[train_cols]\n",
    "y=accidents['Accident_Severity']\n",
    "fatal=accidents[accidents['Accident_Severity']=='Fatal']"
   ]
  },
  {
   "cell_type": "code",
   "execution_count": 78,
   "metadata": {},
   "outputs": [
    {
     "data": {
      "application/javascript": [
       "/* Put everything inside the global mpl namespace */\n",
       "window.mpl = {};\n",
       "\n",
       "\n",
       "mpl.get_websocket_type = function() {\n",
       "    if (typeof(WebSocket) !== 'undefined') {\n",
       "        return WebSocket;\n",
       "    } else if (typeof(MozWebSocket) !== 'undefined') {\n",
       "        return MozWebSocket;\n",
       "    } else {\n",
       "        alert('Your browser does not have WebSocket support. ' +\n",
       "              'Please try Chrome, Safari or Firefox ≥ 6. ' +\n",
       "              'Firefox 4 and 5 are also supported but you ' +\n",
       "              'have to enable WebSockets in about:config.');\n",
       "    };\n",
       "}\n",
       "\n",
       "mpl.figure = function(figure_id, websocket, ondownload, parent_element) {\n",
       "    this.id = figure_id;\n",
       "\n",
       "    this.ws = websocket;\n",
       "\n",
       "    this.supports_binary = (this.ws.binaryType != undefined);\n",
       "\n",
       "    if (!this.supports_binary) {\n",
       "        var warnings = document.getElementById(\"mpl-warnings\");\n",
       "        if (warnings) {\n",
       "            warnings.style.display = 'block';\n",
       "            warnings.textContent = (\n",
       "                \"This browser does not support binary websocket messages. \" +\n",
       "                    \"Performance may be slow.\");\n",
       "        }\n",
       "    }\n",
       "\n",
       "    this.imageObj = new Image();\n",
       "\n",
       "    this.context = undefined;\n",
       "    this.message = undefined;\n",
       "    this.canvas = undefined;\n",
       "    this.rubberband_canvas = undefined;\n",
       "    this.rubberband_context = undefined;\n",
       "    this.format_dropdown = undefined;\n",
       "\n",
       "    this.image_mode = 'full';\n",
       "\n",
       "    this.root = $('<div/>');\n",
       "    this._root_extra_style(this.root)\n",
       "    this.root.attr('style', 'display: inline-block');\n",
       "\n",
       "    $(parent_element).append(this.root);\n",
       "\n",
       "    this._init_header(this);\n",
       "    this._init_canvas(this);\n",
       "    this._init_toolbar(this);\n",
       "\n",
       "    var fig = this;\n",
       "\n",
       "    this.waiting = false;\n",
       "\n",
       "    this.ws.onopen =  function () {\n",
       "            fig.send_message(\"supports_binary\", {value: fig.supports_binary});\n",
       "            fig.send_message(\"send_image_mode\", {});\n",
       "            if (mpl.ratio != 1) {\n",
       "                fig.send_message(\"set_dpi_ratio\", {'dpi_ratio': mpl.ratio});\n",
       "            }\n",
       "            fig.send_message(\"refresh\", {});\n",
       "        }\n",
       "\n",
       "    this.imageObj.onload = function() {\n",
       "            if (fig.image_mode == 'full') {\n",
       "                // Full images could contain transparency (where diff images\n",
       "                // almost always do), so we need to clear the canvas so that\n",
       "                // there is no ghosting.\n",
       "                fig.context.clearRect(0, 0, fig.canvas.width, fig.canvas.height);\n",
       "            }\n",
       "            fig.context.drawImage(fig.imageObj, 0, 0);\n",
       "        };\n",
       "\n",
       "    this.imageObj.onunload = function() {\n",
       "        fig.ws.close();\n",
       "    }\n",
       "\n",
       "    this.ws.onmessage = this._make_on_message_function(this);\n",
       "\n",
       "    this.ondownload = ondownload;\n",
       "}\n",
       "\n",
       "mpl.figure.prototype._init_header = function() {\n",
       "    var titlebar = $(\n",
       "        '<div class=\"ui-dialog-titlebar ui-widget-header ui-corner-all ' +\n",
       "        'ui-helper-clearfix\"/>');\n",
       "    var titletext = $(\n",
       "        '<div class=\"ui-dialog-title\" style=\"width: 100%; ' +\n",
       "        'text-align: center; padding: 3px;\"/>');\n",
       "    titlebar.append(titletext)\n",
       "    this.root.append(titlebar);\n",
       "    this.header = titletext[0];\n",
       "}\n",
       "\n",
       "\n",
       "\n",
       "mpl.figure.prototype._canvas_extra_style = function(canvas_div) {\n",
       "\n",
       "}\n",
       "\n",
       "\n",
       "mpl.figure.prototype._root_extra_style = function(canvas_div) {\n",
       "\n",
       "}\n",
       "\n",
       "mpl.figure.prototype._init_canvas = function() {\n",
       "    var fig = this;\n",
       "\n",
       "    var canvas_div = $('<div/>');\n",
       "\n",
       "    canvas_div.attr('style', 'position: relative; clear: both; outline: 0');\n",
       "\n",
       "    function canvas_keyboard_event(event) {\n",
       "        return fig.key_event(event, event['data']);\n",
       "    }\n",
       "\n",
       "    canvas_div.keydown('key_press', canvas_keyboard_event);\n",
       "    canvas_div.keyup('key_release', canvas_keyboard_event);\n",
       "    this.canvas_div = canvas_div\n",
       "    this._canvas_extra_style(canvas_div)\n",
       "    this.root.append(canvas_div);\n",
       "\n",
       "    var canvas = $('<canvas/>');\n",
       "    canvas.addClass('mpl-canvas');\n",
       "    canvas.attr('style', \"left: 0; top: 0; z-index: 0; outline: 0\")\n",
       "\n",
       "    this.canvas = canvas[0];\n",
       "    this.context = canvas[0].getContext(\"2d\");\n",
       "\n",
       "    var backingStore = this.context.backingStorePixelRatio ||\n",
       "\tthis.context.webkitBackingStorePixelRatio ||\n",
       "\tthis.context.mozBackingStorePixelRatio ||\n",
       "\tthis.context.msBackingStorePixelRatio ||\n",
       "\tthis.context.oBackingStorePixelRatio ||\n",
       "\tthis.context.backingStorePixelRatio || 1;\n",
       "\n",
       "    mpl.ratio = (window.devicePixelRatio || 1) / backingStore;\n",
       "\n",
       "    var rubberband = $('<canvas/>');\n",
       "    rubberband.attr('style', \"position: absolute; left: 0; top: 0; z-index: 1;\")\n",
       "\n",
       "    var pass_mouse_events = true;\n",
       "\n",
       "    canvas_div.resizable({\n",
       "        start: function(event, ui) {\n",
       "            pass_mouse_events = false;\n",
       "        },\n",
       "        resize: function(event, ui) {\n",
       "            fig.request_resize(ui.size.width, ui.size.height);\n",
       "        },\n",
       "        stop: function(event, ui) {\n",
       "            pass_mouse_events = true;\n",
       "            fig.request_resize(ui.size.width, ui.size.height);\n",
       "        },\n",
       "    });\n",
       "\n",
       "    function mouse_event_fn(event) {\n",
       "        if (pass_mouse_events)\n",
       "            return fig.mouse_event(event, event['data']);\n",
       "    }\n",
       "\n",
       "    rubberband.mousedown('button_press', mouse_event_fn);\n",
       "    rubberband.mouseup('button_release', mouse_event_fn);\n",
       "    // Throttle sequential mouse events to 1 every 20ms.\n",
       "    rubberband.mousemove('motion_notify', mouse_event_fn);\n",
       "\n",
       "    rubberband.mouseenter('figure_enter', mouse_event_fn);\n",
       "    rubberband.mouseleave('figure_leave', mouse_event_fn);\n",
       "\n",
       "    canvas_div.on(\"wheel\", function (event) {\n",
       "        event = event.originalEvent;\n",
       "        event['data'] = 'scroll'\n",
       "        if (event.deltaY < 0) {\n",
       "            event.step = 1;\n",
       "        } else {\n",
       "            event.step = -1;\n",
       "        }\n",
       "        mouse_event_fn(event);\n",
       "    });\n",
       "\n",
       "    canvas_div.append(canvas);\n",
       "    canvas_div.append(rubberband);\n",
       "\n",
       "    this.rubberband = rubberband;\n",
       "    this.rubberband_canvas = rubberband[0];\n",
       "    this.rubberband_context = rubberband[0].getContext(\"2d\");\n",
       "    this.rubberband_context.strokeStyle = \"#000000\";\n",
       "\n",
       "    this._resize_canvas = function(width, height) {\n",
       "        // Keep the size of the canvas, canvas container, and rubber band\n",
       "        // canvas in synch.\n",
       "        canvas_div.css('width', width)\n",
       "        canvas_div.css('height', height)\n",
       "\n",
       "        canvas.attr('width', width * mpl.ratio);\n",
       "        canvas.attr('height', height * mpl.ratio);\n",
       "        canvas.attr('style', 'width: ' + width + 'px; height: ' + height + 'px;');\n",
       "\n",
       "        rubberband.attr('width', width);\n",
       "        rubberband.attr('height', height);\n",
       "    }\n",
       "\n",
       "    // Set the figure to an initial 600x600px, this will subsequently be updated\n",
       "    // upon first draw.\n",
       "    this._resize_canvas(600, 600);\n",
       "\n",
       "    // Disable right mouse context menu.\n",
       "    $(this.rubberband_canvas).bind(\"contextmenu\",function(e){\n",
       "        return false;\n",
       "    });\n",
       "\n",
       "    function set_focus () {\n",
       "        canvas.focus();\n",
       "        canvas_div.focus();\n",
       "    }\n",
       "\n",
       "    window.setTimeout(set_focus, 100);\n",
       "}\n",
       "\n",
       "mpl.figure.prototype._init_toolbar = function() {\n",
       "    var fig = this;\n",
       "\n",
       "    var nav_element = $('<div/>');\n",
       "    nav_element.attr('style', 'width: 100%');\n",
       "    this.root.append(nav_element);\n",
       "\n",
       "    // Define a callback function for later on.\n",
       "    function toolbar_event(event) {\n",
       "        return fig.toolbar_button_onclick(event['data']);\n",
       "    }\n",
       "    function toolbar_mouse_event(event) {\n",
       "        return fig.toolbar_button_onmouseover(event['data']);\n",
       "    }\n",
       "\n",
       "    for(var toolbar_ind in mpl.toolbar_items) {\n",
       "        var name = mpl.toolbar_items[toolbar_ind][0];\n",
       "        var tooltip = mpl.toolbar_items[toolbar_ind][1];\n",
       "        var image = mpl.toolbar_items[toolbar_ind][2];\n",
       "        var method_name = mpl.toolbar_items[toolbar_ind][3];\n",
       "\n",
       "        if (!name) {\n",
       "            // put a spacer in here.\n",
       "            continue;\n",
       "        }\n",
       "        var button = $('<button/>');\n",
       "        button.addClass('ui-button ui-widget ui-state-default ui-corner-all ' +\n",
       "                        'ui-button-icon-only');\n",
       "        button.attr('role', 'button');\n",
       "        button.attr('aria-disabled', 'false');\n",
       "        button.click(method_name, toolbar_event);\n",
       "        button.mouseover(tooltip, toolbar_mouse_event);\n",
       "\n",
       "        var icon_img = $('<span/>');\n",
       "        icon_img.addClass('ui-button-icon-primary ui-icon');\n",
       "        icon_img.addClass(image);\n",
       "        icon_img.addClass('ui-corner-all');\n",
       "\n",
       "        var tooltip_span = $('<span/>');\n",
       "        tooltip_span.addClass('ui-button-text');\n",
       "        tooltip_span.html(tooltip);\n",
       "\n",
       "        button.append(icon_img);\n",
       "        button.append(tooltip_span);\n",
       "\n",
       "        nav_element.append(button);\n",
       "    }\n",
       "\n",
       "    var fmt_picker_span = $('<span/>');\n",
       "\n",
       "    var fmt_picker = $('<select/>');\n",
       "    fmt_picker.addClass('mpl-toolbar-option ui-widget ui-widget-content');\n",
       "    fmt_picker_span.append(fmt_picker);\n",
       "    nav_element.append(fmt_picker_span);\n",
       "    this.format_dropdown = fmt_picker[0];\n",
       "\n",
       "    for (var ind in mpl.extensions) {\n",
       "        var fmt = mpl.extensions[ind];\n",
       "        var option = $(\n",
       "            '<option/>', {selected: fmt === mpl.default_extension}).html(fmt);\n",
       "        fmt_picker.append(option);\n",
       "    }\n",
       "\n",
       "    // Add hover states to the ui-buttons\n",
       "    $( \".ui-button\" ).hover(\n",
       "        function() { $(this).addClass(\"ui-state-hover\");},\n",
       "        function() { $(this).removeClass(\"ui-state-hover\");}\n",
       "    );\n",
       "\n",
       "    var status_bar = $('<span class=\"mpl-message\"/>');\n",
       "    nav_element.append(status_bar);\n",
       "    this.message = status_bar[0];\n",
       "}\n",
       "\n",
       "mpl.figure.prototype.request_resize = function(x_pixels, y_pixels) {\n",
       "    // Request matplotlib to resize the figure. Matplotlib will then trigger a resize in the client,\n",
       "    // which will in turn request a refresh of the image.\n",
       "    this.send_message('resize', {'width': x_pixels, 'height': y_pixels});\n",
       "}\n",
       "\n",
       "mpl.figure.prototype.send_message = function(type, properties) {\n",
       "    properties['type'] = type;\n",
       "    properties['figure_id'] = this.id;\n",
       "    this.ws.send(JSON.stringify(properties));\n",
       "}\n",
       "\n",
       "mpl.figure.prototype.send_draw_message = function() {\n",
       "    if (!this.waiting) {\n",
       "        this.waiting = true;\n",
       "        this.ws.send(JSON.stringify({type: \"draw\", figure_id: this.id}));\n",
       "    }\n",
       "}\n",
       "\n",
       "\n",
       "mpl.figure.prototype.handle_save = function(fig, msg) {\n",
       "    var format_dropdown = fig.format_dropdown;\n",
       "    var format = format_dropdown.options[format_dropdown.selectedIndex].value;\n",
       "    fig.ondownload(fig, format);\n",
       "}\n",
       "\n",
       "\n",
       "mpl.figure.prototype.handle_resize = function(fig, msg) {\n",
       "    var size = msg['size'];\n",
       "    if (size[0] != fig.canvas.width || size[1] != fig.canvas.height) {\n",
       "        fig._resize_canvas(size[0], size[1]);\n",
       "        fig.send_message(\"refresh\", {});\n",
       "    };\n",
       "}\n",
       "\n",
       "mpl.figure.prototype.handle_rubberband = function(fig, msg) {\n",
       "    var x0 = msg['x0'] / mpl.ratio;\n",
       "    var y0 = (fig.canvas.height - msg['y0']) / mpl.ratio;\n",
       "    var x1 = msg['x1'] / mpl.ratio;\n",
       "    var y1 = (fig.canvas.height - msg['y1']) / mpl.ratio;\n",
       "    x0 = Math.floor(x0) + 0.5;\n",
       "    y0 = Math.floor(y0) + 0.5;\n",
       "    x1 = Math.floor(x1) + 0.5;\n",
       "    y1 = Math.floor(y1) + 0.5;\n",
       "    var min_x = Math.min(x0, x1);\n",
       "    var min_y = Math.min(y0, y1);\n",
       "    var width = Math.abs(x1 - x0);\n",
       "    var height = Math.abs(y1 - y0);\n",
       "\n",
       "    fig.rubberband_context.clearRect(\n",
       "        0, 0, fig.canvas.width / mpl.ratio, fig.canvas.height / mpl.ratio);\n",
       "\n",
       "    fig.rubberband_context.strokeRect(min_x, min_y, width, height);\n",
       "}\n",
       "\n",
       "mpl.figure.prototype.handle_figure_label = function(fig, msg) {\n",
       "    // Updates the figure title.\n",
       "    fig.header.textContent = msg['label'];\n",
       "}\n",
       "\n",
       "mpl.figure.prototype.handle_cursor = function(fig, msg) {\n",
       "    var cursor = msg['cursor'];\n",
       "    switch(cursor)\n",
       "    {\n",
       "    case 0:\n",
       "        cursor = 'pointer';\n",
       "        break;\n",
       "    case 1:\n",
       "        cursor = 'default';\n",
       "        break;\n",
       "    case 2:\n",
       "        cursor = 'crosshair';\n",
       "        break;\n",
       "    case 3:\n",
       "        cursor = 'move';\n",
       "        break;\n",
       "    }\n",
       "    fig.rubberband_canvas.style.cursor = cursor;\n",
       "}\n",
       "\n",
       "mpl.figure.prototype.handle_message = function(fig, msg) {\n",
       "    fig.message.textContent = msg['message'];\n",
       "}\n",
       "\n",
       "mpl.figure.prototype.handle_draw = function(fig, msg) {\n",
       "    // Request the server to send over a new figure.\n",
       "    fig.send_draw_message();\n",
       "}\n",
       "\n",
       "mpl.figure.prototype.handle_image_mode = function(fig, msg) {\n",
       "    fig.image_mode = msg['mode'];\n",
       "}\n",
       "\n",
       "mpl.figure.prototype.updated_canvas_event = function() {\n",
       "    // Called whenever the canvas gets updated.\n",
       "    this.send_message(\"ack\", {});\n",
       "}\n",
       "\n",
       "// A function to construct a web socket function for onmessage handling.\n",
       "// Called in the figure constructor.\n",
       "mpl.figure.prototype._make_on_message_function = function(fig) {\n",
       "    return function socket_on_message(evt) {\n",
       "        if (evt.data instanceof Blob) {\n",
       "            /* FIXME: We get \"Resource interpreted as Image but\n",
       "             * transferred with MIME type text/plain:\" errors on\n",
       "             * Chrome.  But how to set the MIME type?  It doesn't seem\n",
       "             * to be part of the websocket stream */\n",
       "            evt.data.type = \"image/png\";\n",
       "\n",
       "            /* Free the memory for the previous frames */\n",
       "            if (fig.imageObj.src) {\n",
       "                (window.URL || window.webkitURL).revokeObjectURL(\n",
       "                    fig.imageObj.src);\n",
       "            }\n",
       "\n",
       "            fig.imageObj.src = (window.URL || window.webkitURL).createObjectURL(\n",
       "                evt.data);\n",
       "            fig.updated_canvas_event();\n",
       "            fig.waiting = false;\n",
       "            return;\n",
       "        }\n",
       "        else if (typeof evt.data === 'string' && evt.data.slice(0, 21) == \"data:image/png;base64\") {\n",
       "            fig.imageObj.src = evt.data;\n",
       "            fig.updated_canvas_event();\n",
       "            fig.waiting = false;\n",
       "            return;\n",
       "        }\n",
       "\n",
       "        var msg = JSON.parse(evt.data);\n",
       "        var msg_type = msg['type'];\n",
       "\n",
       "        // Call the  \"handle_{type}\" callback, which takes\n",
       "        // the figure and JSON message as its only arguments.\n",
       "        try {\n",
       "            var callback = fig[\"handle_\" + msg_type];\n",
       "        } catch (e) {\n",
       "            console.log(\"No handler for the '\" + msg_type + \"' message type: \", msg);\n",
       "            return;\n",
       "        }\n",
       "\n",
       "        if (callback) {\n",
       "            try {\n",
       "                // console.log(\"Handling '\" + msg_type + \"' message: \", msg);\n",
       "                callback(fig, msg);\n",
       "            } catch (e) {\n",
       "                console.log(\"Exception inside the 'handler_\" + msg_type + \"' callback:\", e, e.stack, msg);\n",
       "            }\n",
       "        }\n",
       "    };\n",
       "}\n",
       "\n",
       "// from http://stackoverflow.com/questions/1114465/getting-mouse-location-in-canvas\n",
       "mpl.findpos = function(e) {\n",
       "    //this section is from http://www.quirksmode.org/js/events_properties.html\n",
       "    var targ;\n",
       "    if (!e)\n",
       "        e = window.event;\n",
       "    if (e.target)\n",
       "        targ = e.target;\n",
       "    else if (e.srcElement)\n",
       "        targ = e.srcElement;\n",
       "    if (targ.nodeType == 3) // defeat Safari bug\n",
       "        targ = targ.parentNode;\n",
       "\n",
       "    // jQuery normalizes the pageX and pageY\n",
       "    // pageX,Y are the mouse positions relative to the document\n",
       "    // offset() returns the position of the element relative to the document\n",
       "    var x = e.pageX - $(targ).offset().left;\n",
       "    var y = e.pageY - $(targ).offset().top;\n",
       "\n",
       "    return {\"x\": x, \"y\": y};\n",
       "};\n",
       "\n",
       "/*\n",
       " * return a copy of an object with only non-object keys\n",
       " * we need this to avoid circular references\n",
       " * http://stackoverflow.com/a/24161582/3208463\n",
       " */\n",
       "function simpleKeys (original) {\n",
       "  return Object.keys(original).reduce(function (obj, key) {\n",
       "    if (typeof original[key] !== 'object')\n",
       "        obj[key] = original[key]\n",
       "    return obj;\n",
       "  }, {});\n",
       "}\n",
       "\n",
       "mpl.figure.prototype.mouse_event = function(event, name) {\n",
       "    var canvas_pos = mpl.findpos(event)\n",
       "\n",
       "    if (name === 'button_press')\n",
       "    {\n",
       "        this.canvas.focus();\n",
       "        this.canvas_div.focus();\n",
       "    }\n",
       "\n",
       "    var x = canvas_pos.x * mpl.ratio;\n",
       "    var y = canvas_pos.y * mpl.ratio;\n",
       "\n",
       "    this.send_message(name, {x: x, y: y, button: event.button,\n",
       "                             step: event.step,\n",
       "                             guiEvent: simpleKeys(event)});\n",
       "\n",
       "    /* This prevents the web browser from automatically changing to\n",
       "     * the text insertion cursor when the button is pressed.  We want\n",
       "     * to control all of the cursor setting manually through the\n",
       "     * 'cursor' event from matplotlib */\n",
       "    event.preventDefault();\n",
       "    return false;\n",
       "}\n",
       "\n",
       "mpl.figure.prototype._key_event_extra = function(event, name) {\n",
       "    // Handle any extra behaviour associated with a key event\n",
       "}\n",
       "\n",
       "mpl.figure.prototype.key_event = function(event, name) {\n",
       "\n",
       "    // Prevent repeat events\n",
       "    if (name == 'key_press')\n",
       "    {\n",
       "        if (event.which === this._key)\n",
       "            return;\n",
       "        else\n",
       "            this._key = event.which;\n",
       "    }\n",
       "    if (name == 'key_release')\n",
       "        this._key = null;\n",
       "\n",
       "    var value = '';\n",
       "    if (event.ctrlKey && event.which != 17)\n",
       "        value += \"ctrl+\";\n",
       "    if (event.altKey && event.which != 18)\n",
       "        value += \"alt+\";\n",
       "    if (event.shiftKey && event.which != 16)\n",
       "        value += \"shift+\";\n",
       "\n",
       "    value += 'k';\n",
       "    value += event.which.toString();\n",
       "\n",
       "    this._key_event_extra(event, name);\n",
       "\n",
       "    this.send_message(name, {key: value,\n",
       "                             guiEvent: simpleKeys(event)});\n",
       "    return false;\n",
       "}\n",
       "\n",
       "mpl.figure.prototype.toolbar_button_onclick = function(name) {\n",
       "    if (name == 'download') {\n",
       "        this.handle_save(this, null);\n",
       "    } else {\n",
       "        this.send_message(\"toolbar_button\", {name: name});\n",
       "    }\n",
       "};\n",
       "\n",
       "mpl.figure.prototype.toolbar_button_onmouseover = function(tooltip) {\n",
       "    this.message.textContent = tooltip;\n",
       "};\n",
       "mpl.toolbar_items = [[\"Home\", \"Reset original view\", \"fa fa-home icon-home\", \"home\"], [\"Back\", \"Back to previous view\", \"fa fa-arrow-left icon-arrow-left\", \"back\"], [\"Forward\", \"Forward to next view\", \"fa fa-arrow-right icon-arrow-right\", \"forward\"], [\"\", \"\", \"\", \"\"], [\"Pan\", \"Pan axes with left mouse, zoom with right\", \"fa fa-arrows icon-move\", \"pan\"], [\"Zoom\", \"Zoom to rectangle\", \"fa fa-square-o icon-check-empty\", \"zoom\"], [\"\", \"\", \"\", \"\"], [\"Download\", \"Download plot\", \"fa fa-floppy-o icon-save\", \"download\"]];\n",
       "\n",
       "mpl.extensions = [\"eps\", \"jpeg\", \"pdf\", \"png\", \"ps\", \"raw\", \"svg\", \"tif\"];\n",
       "\n",
       "mpl.default_extension = \"png\";var comm_websocket_adapter = function(comm) {\n",
       "    // Create a \"websocket\"-like object which calls the given IPython comm\n",
       "    // object with the appropriate methods. Currently this is a non binary\n",
       "    // socket, so there is still some room for performance tuning.\n",
       "    var ws = {};\n",
       "\n",
       "    ws.close = function() {\n",
       "        comm.close()\n",
       "    };\n",
       "    ws.send = function(m) {\n",
       "        //console.log('sending', m);\n",
       "        comm.send(m);\n",
       "    };\n",
       "    // Register the callback with on_msg.\n",
       "    comm.on_msg(function(msg) {\n",
       "        //console.log('receiving', msg['content']['data'], msg);\n",
       "        // Pass the mpl event to the overridden (by mpl) onmessage function.\n",
       "        ws.onmessage(msg['content']['data'])\n",
       "    });\n",
       "    return ws;\n",
       "}\n",
       "\n",
       "mpl.mpl_figure_comm = function(comm, msg) {\n",
       "    // This is the function which gets called when the mpl process\n",
       "    // starts-up an IPython Comm through the \"matplotlib\" channel.\n",
       "\n",
       "    var id = msg.content.data.id;\n",
       "    // Get hold of the div created by the display call when the Comm\n",
       "    // socket was opened in Python.\n",
       "    var element = $(\"#\" + id);\n",
       "    var ws_proxy = comm_websocket_adapter(comm)\n",
       "\n",
       "    function ondownload(figure, format) {\n",
       "        window.open(figure.imageObj.src);\n",
       "    }\n",
       "\n",
       "    var fig = new mpl.figure(id, ws_proxy,\n",
       "                           ondownload,\n",
       "                           element.get(0));\n",
       "\n",
       "    // Call onopen now - mpl needs it, as it is assuming we've passed it a real\n",
       "    // web socket which is closed, not our websocket->open comm proxy.\n",
       "    ws_proxy.onopen();\n",
       "\n",
       "    fig.parent_element = element.get(0);\n",
       "    fig.cell_info = mpl.find_output_cell(\"<div id='\" + id + \"'></div>\");\n",
       "    if (!fig.cell_info) {\n",
       "        console.error(\"Failed to find cell for figure\", id, fig);\n",
       "        return;\n",
       "    }\n",
       "\n",
       "    var output_index = fig.cell_info[2]\n",
       "    var cell = fig.cell_info[0];\n",
       "\n",
       "};\n",
       "\n",
       "mpl.figure.prototype.handle_close = function(fig, msg) {\n",
       "    var width = fig.canvas.width/mpl.ratio\n",
       "    fig.root.unbind('remove')\n",
       "\n",
       "    // Update the output cell to use the data from the current canvas.\n",
       "    fig.push_to_output();\n",
       "    var dataURL = fig.canvas.toDataURL();\n",
       "    // Re-enable the keyboard manager in IPython - without this line, in FF,\n",
       "    // the notebook keyboard shortcuts fail.\n",
       "    IPython.keyboard_manager.enable()\n",
       "    $(fig.parent_element).html('<img src=\"' + dataURL + '\" width=\"' + width + '\">');\n",
       "    fig.close_ws(fig, msg);\n",
       "}\n",
       "\n",
       "mpl.figure.prototype.close_ws = function(fig, msg){\n",
       "    fig.send_message('closing', msg);\n",
       "    // fig.ws.close()\n",
       "}\n",
       "\n",
       "mpl.figure.prototype.push_to_output = function(remove_interactive) {\n",
       "    // Turn the data on the canvas into data in the output cell.\n",
       "    var width = this.canvas.width/mpl.ratio\n",
       "    var dataURL = this.canvas.toDataURL();\n",
       "    this.cell_info[1]['text/html'] = '<img src=\"' + dataURL + '\" width=\"' + width + '\">';\n",
       "}\n",
       "\n",
       "mpl.figure.prototype.updated_canvas_event = function() {\n",
       "    // Tell IPython that the notebook contents must change.\n",
       "    IPython.notebook.set_dirty(true);\n",
       "    this.send_message(\"ack\", {});\n",
       "    var fig = this;\n",
       "    // Wait a second, then push the new image to the DOM so\n",
       "    // that it is saved nicely (might be nice to debounce this).\n",
       "    setTimeout(function () { fig.push_to_output() }, 1000);\n",
       "}\n",
       "\n",
       "mpl.figure.prototype._init_toolbar = function() {\n",
       "    var fig = this;\n",
       "\n",
       "    var nav_element = $('<div/>');\n",
       "    nav_element.attr('style', 'width: 100%');\n",
       "    this.root.append(nav_element);\n",
       "\n",
       "    // Define a callback function for later on.\n",
       "    function toolbar_event(event) {\n",
       "        return fig.toolbar_button_onclick(event['data']);\n",
       "    }\n",
       "    function toolbar_mouse_event(event) {\n",
       "        return fig.toolbar_button_onmouseover(event['data']);\n",
       "    }\n",
       "\n",
       "    for(var toolbar_ind in mpl.toolbar_items){\n",
       "        var name = mpl.toolbar_items[toolbar_ind][0];\n",
       "        var tooltip = mpl.toolbar_items[toolbar_ind][1];\n",
       "        var image = mpl.toolbar_items[toolbar_ind][2];\n",
       "        var method_name = mpl.toolbar_items[toolbar_ind][3];\n",
       "\n",
       "        if (!name) { continue; };\n",
       "\n",
       "        var button = $('<button class=\"btn btn-default\" href=\"#\" title=\"' + name + '\"><i class=\"fa ' + image + ' fa-lg\"></i></button>');\n",
       "        button.click(method_name, toolbar_event);\n",
       "        button.mouseover(tooltip, toolbar_mouse_event);\n",
       "        nav_element.append(button);\n",
       "    }\n",
       "\n",
       "    // Add the status bar.\n",
       "    var status_bar = $('<span class=\"mpl-message\" style=\"text-align:right; float: right;\"/>');\n",
       "    nav_element.append(status_bar);\n",
       "    this.message = status_bar[0];\n",
       "\n",
       "    // Add the close button to the window.\n",
       "    var buttongrp = $('<div class=\"btn-group inline pull-right\"></div>');\n",
       "    var button = $('<button class=\"btn btn-mini btn-primary\" href=\"#\" title=\"Stop Interaction\"><i class=\"fa fa-power-off icon-remove icon-large\"></i></button>');\n",
       "    button.click(function (evt) { fig.handle_close(fig, {}); } );\n",
       "    button.mouseover('Stop Interaction', toolbar_mouse_event);\n",
       "    buttongrp.append(button);\n",
       "    var titlebar = this.root.find($('.ui-dialog-titlebar'));\n",
       "    titlebar.prepend(buttongrp);\n",
       "}\n",
       "\n",
       "mpl.figure.prototype._root_extra_style = function(el){\n",
       "    var fig = this\n",
       "    el.on(\"remove\", function(){\n",
       "\tfig.close_ws(fig, {});\n",
       "    });\n",
       "}\n",
       "\n",
       "mpl.figure.prototype._canvas_extra_style = function(el){\n",
       "    // this is important to make the div 'focusable\n",
       "    el.attr('tabindex', 0)\n",
       "    // reach out to IPython and tell the keyboard manager to turn it's self\n",
       "    // off when our div gets focus\n",
       "\n",
       "    // location in version 3\n",
       "    if (IPython.notebook.keyboard_manager) {\n",
       "        IPython.notebook.keyboard_manager.register_events(el);\n",
       "    }\n",
       "    else {\n",
       "        // location in version 2\n",
       "        IPython.keyboard_manager.register_events(el);\n",
       "    }\n",
       "\n",
       "}\n",
       "\n",
       "mpl.figure.prototype._key_event_extra = function(event, name) {\n",
       "    var manager = IPython.notebook.keyboard_manager;\n",
       "    if (!manager)\n",
       "        manager = IPython.keyboard_manager;\n",
       "\n",
       "    // Check for shift+enter\n",
       "    if (event.shiftKey && event.which == 13) {\n",
       "        this.canvas_div.blur();\n",
       "        // select the cell after this one\n",
       "        var index = IPython.notebook.find_cell_index(this.cell_info[0]);\n",
       "        IPython.notebook.select(index + 1);\n",
       "    }\n",
       "}\n",
       "\n",
       "mpl.figure.prototype.handle_save = function(fig, msg) {\n",
       "    fig.ondownload(fig, null);\n",
       "}\n",
       "\n",
       "\n",
       "mpl.find_output_cell = function(html_output) {\n",
       "    // Return the cell and output element which can be found *uniquely* in the notebook.\n",
       "    // Note - this is a bit hacky, but it is done because the \"notebook_saving.Notebook\"\n",
       "    // IPython event is triggered only after the cells have been serialised, which for\n",
       "    // our purposes (turning an active figure into a static one), is too late.\n",
       "    var cells = IPython.notebook.get_cells();\n",
       "    var ncells = cells.length;\n",
       "    for (var i=0; i<ncells; i++) {\n",
       "        var cell = cells[i];\n",
       "        if (cell.cell_type === 'code'){\n",
       "            for (var j=0; j<cell.output_area.outputs.length; j++) {\n",
       "                var data = cell.output_area.outputs[j];\n",
       "                if (data.data) {\n",
       "                    // IPython >= 3 moved mimebundle to data attribute of output\n",
       "                    data = data.data;\n",
       "                }\n",
       "                if (data['text/html'] == html_output) {\n",
       "                    return [cell, data, j];\n",
       "                }\n",
       "            }\n",
       "        }\n",
       "    }\n",
       "}\n",
       "\n",
       "// Register the function which deals with the matplotlib target/channel.\n",
       "// The kernel may be null if the page has been refreshed.\n",
       "if (IPython.notebook.kernel != null) {\n",
       "    IPython.notebook.kernel.comm_manager.register_target('matplotlib', mpl.mpl_figure_comm);\n",
       "}\n"
      ],
      "text/plain": [
       "<IPython.core.display.Javascript object>"
      ]
     },
     "metadata": {},
     "output_type": "display_data"
    },
    {
     "data": {
      "text/html": [
       "<img src=\"data:image/png;base64,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\" width=\"798.8889100522176\">"
      ],
      "text/plain": [
       "<IPython.core.display.HTML object>"
      ]
     },
     "metadata": {},
     "output_type": "display_data"
    }
   ],
   "source": [
    "import cartopy\n",
    "import cartopy.crs as ccrs\n",
    "year=2016\n",
    "data=fatal[fatal['Year']==year]\n",
    "lons=data[\"Longitude\"].tolist()\n",
    "lats=data[\"Latitude\"].tolist()\n",
    "\n",
    "plt.figure(figsize=(8,10))\n",
    "ax = plt.axes(projection=ccrs.PlateCarree())\n",
    "ax.set_extent([(min(lons)-5), (max(lons)+1), (min(lats)-2.5), (max(lats)+2.5)],\n",
    "                crs = ccrs.PlateCarree())\n",
    "\n",
    "ax.coastlines(resolution='10m', color='black', linewidth=1) \n",
    "ax.scatter(lons, lats, c='r', alpha=0.7, s=10)\n",
    "plt.title('Fatal Accident Locations %s' % str(year), size=18)\n",
    "\n",
    "plt.show()"
   ]
  },
  {
   "cell_type": "markdown",
   "metadata": {},
   "source": [
    "create the dummy variables and check the new shape of the data."
   ]
  },
  {
   "cell_type": "code",
   "execution_count": 19,
   "metadata": {
    "colab": {},
    "colab_type": "code",
    "id": "AAdRd8OeGixz"
   },
   "outputs": [],
   "source": [
    "X=pd.get_dummies(X[categorical_cols]).join(X[numerical_cols])"
   ]
  },
  {
   "cell_type": "code",
   "execution_count": 20,
   "metadata": {},
   "outputs": [
    {
     "data": {
      "text/plain": [
       "(2047042, 91)"
      ]
     },
     "execution_count": 20,
     "metadata": {},
     "output_type": "execute_result"
    }
   ],
   "source": [
    "X.shape"
   ]
  },
  {
   "cell_type": "markdown",
   "metadata": {},
   "source": [
    "Create out train, validate and test sets and check the shapes. \n",
    "This is a 60/20/20 split."
   ]
  },
  {
   "cell_type": "code",
   "execution_count": 21,
   "metadata": {
    "colab": {
     "base_uri": "https://localhost:8080/",
     "height": 66
    },
    "colab_type": "code",
    "id": "1D5S8KLpGkk0",
    "outputId": "33f412e1-b271-412a-ef88-2f776d26b808"
   },
   "outputs": [
    {
     "name": "stdout",
     "output_type": "stream",
     "text": [
      "(1228224, 91) (1228224,)\n",
      "(409409, 91) (409409,)\n",
      "(409409, 91) (409409,)\n"
     ]
    }
   ],
   "source": [
    "X_train, X_test, y_train, y_test = train_test_split(X, y, test_size=0.2, random_state=1)\n",
    "X_train, X_val, y_train, y_val = train_test_split(X_train, y_train, test_size=0.25, random_state=1)\n",
    "\n",
    "print(X_train.shape, y_train.shape)\n",
    "print(X_val.shape, y_val.shape)\n",
    "print(X_test.shape, y_test.shape)"
   ]
  },
  {
   "cell_type": "markdown",
   "metadata": {},
   "source": [
    "## More Preprocessing - Scaling\n",
    "To get the best results from the Gradient Boosted Classifier the data needs to be scaled. I've applit the MinMaxScaler to all categorical values to scale them to a value between 1 and 0 based on the max/min in the sample."
   ]
  },
  {
   "cell_type": "code",
   "execution_count": 22,
   "metadata": {
    "colab": {
     "base_uri": "https://localhost:8080/",
     "height": 212
    },
    "colab_type": "code",
    "id": "Us07VLmOGl-Z",
    "outputId": "b40029a6-649c-4374-f8b2-ea8b8f406c69"
   },
   "outputs": [
    {
     "name": "stderr",
     "output_type": "stream",
     "text": [
      "/home/mogmelon/anaconda3/lib/python3.7/site-packages/ipykernel_launcher.py:6: SettingWithCopyWarning: \n",
      "A value is trying to be set on a copy of a slice from a DataFrame.\n",
      "Try using .loc[row_indexer,col_indexer] = value instead\n",
      "\n",
      "See the caveats in the documentation: http://pandas.pydata.org/pandas-docs/stable/indexing.html#indexing-view-versus-copy\n",
      "  \n",
      "/home/mogmelon/.local/lib/python3.7/site-packages/pandas/core/indexing.py:543: SettingWithCopyWarning: \n",
      "A value is trying to be set on a copy of a slice from a DataFrame.\n",
      "Try using .loc[row_indexer,col_indexer] = value instead\n",
      "\n",
      "See the caveats in the documentation: http://pandas.pydata.org/pandas-docs/stable/indexing.html#indexing-view-versus-copy\n",
      "  self.obj[item] = s\n"
     ]
    },
    {
     "data": {
      "text/html": [
       "<div>\n",
       "<style scoped>\n",
       "    .dataframe tbody tr th:only-of-type {\n",
       "        vertical-align: middle;\n",
       "    }\n",
       "\n",
       "    .dataframe tbody tr th {\n",
       "        vertical-align: top;\n",
       "    }\n",
       "\n",
       "    .dataframe thead th {\n",
       "        text-align: right;\n",
       "    }\n",
       "</style>\n",
       "<table border=\"1\" class=\"dataframe\">\n",
       "  <thead>\n",
       "    <tr style=\"text-align: right;\">\n",
       "      <th></th>\n",
       "      <th>Year</th>\n",
       "      <th>1st_Road_Class_A</th>\n",
       "      <th>1st_Road_Class_A(M)</th>\n",
       "      <th>1st_Road_Class_B</th>\n",
       "      <th>1st_Road_Class_C</th>\n",
       "      <th>1st_Road_Class_Motorway</th>\n",
       "      <th>1st_Road_Class_Unclassified</th>\n",
       "      <th>Carriageway_Hazards_Any animal in carriageway (except ridden horse)</th>\n",
       "      <th>Carriageway_Hazards_Data missing or out of range</th>\n",
       "      <th>Carriageway_Hazards_None</th>\n",
       "      <th>...</th>\n",
       "      <th>Season_autumn</th>\n",
       "      <th>Season_sprint</th>\n",
       "      <th>Season_summer</th>\n",
       "      <th>Season_winter</th>\n",
       "      <th>Speed_limit</th>\n",
       "      <th>Number_of_Casualties</th>\n",
       "      <th>Longitude</th>\n",
       "      <th>Latitude</th>\n",
       "      <th>1st_Road_Number</th>\n",
       "      <th>Number_of_Vehicles</th>\n",
       "    </tr>\n",
       "  </thead>\n",
       "  <tbody>\n",
       "    <tr>\n",
       "      <th>8727</th>\n",
       "      <td>0.000000</td>\n",
       "      <td>1</td>\n",
       "      <td>0</td>\n",
       "      <td>0</td>\n",
       "      <td>0</td>\n",
       "      <td>0</td>\n",
       "      <td>0</td>\n",
       "      <td>0</td>\n",
       "      <td>0</td>\n",
       "      <td>1</td>\n",
       "      <td>...</td>\n",
       "      <td>0</td>\n",
       "      <td>0</td>\n",
       "      <td>0</td>\n",
       "      <td>1</td>\n",
       "      <td>0.333333</td>\n",
       "      <td>0.000000</td>\n",
       "      <td>0.810736</td>\n",
       "      <td>0.148437</td>\n",
       "      <td>0.101110</td>\n",
       "      <td>0.015152</td>\n",
       "    </tr>\n",
       "    <tr>\n",
       "      <th>888664</th>\n",
       "      <td>0.333333</td>\n",
       "      <td>1</td>\n",
       "      <td>0</td>\n",
       "      <td>0</td>\n",
       "      <td>0</td>\n",
       "      <td>0</td>\n",
       "      <td>0</td>\n",
       "      <td>0</td>\n",
       "      <td>0</td>\n",
       "      <td>1</td>\n",
       "      <td>...</td>\n",
       "      <td>0</td>\n",
       "      <td>1</td>\n",
       "      <td>0</td>\n",
       "      <td>0</td>\n",
       "      <td>0.666667</td>\n",
       "      <td>0.046512</td>\n",
       "      <td>0.460357</td>\n",
       "      <td>0.139073</td>\n",
       "      <td>0.423142</td>\n",
       "      <td>0.015152</td>\n",
       "    </tr>\n",
       "    <tr>\n",
       "      <th>979259</th>\n",
       "      <td>0.416667</td>\n",
       "      <td>0</td>\n",
       "      <td>0</td>\n",
       "      <td>1</td>\n",
       "      <td>0</td>\n",
       "      <td>0</td>\n",
       "      <td>0</td>\n",
       "      <td>0</td>\n",
       "      <td>0</td>\n",
       "      <td>1</td>\n",
       "      <td>...</td>\n",
       "      <td>0</td>\n",
       "      <td>0</td>\n",
       "      <td>0</td>\n",
       "      <td>1</td>\n",
       "      <td>0.333333</td>\n",
       "      <td>0.000000</td>\n",
       "      <td>0.666212</td>\n",
       "      <td>0.293930</td>\n",
       "      <td>0.601960</td>\n",
       "      <td>0.015152</td>\n",
       "    </tr>\n",
       "    <tr>\n",
       "      <th>1922657</th>\n",
       "      <td>1.000000</td>\n",
       "      <td>0</td>\n",
       "      <td>0</td>\n",
       "      <td>1</td>\n",
       "      <td>0</td>\n",
       "      <td>0</td>\n",
       "      <td>0</td>\n",
       "      <td>0</td>\n",
       "      <td>0</td>\n",
       "      <td>1</td>\n",
       "      <td>...</td>\n",
       "      <td>0</td>\n",
       "      <td>1</td>\n",
       "      <td>0</td>\n",
       "      <td>0</td>\n",
       "      <td>0.333333</td>\n",
       "      <td>0.000000</td>\n",
       "      <td>0.809424</td>\n",
       "      <td>0.137017</td>\n",
       "      <td>0.025103</td>\n",
       "      <td>0.015152</td>\n",
       "    </tr>\n",
       "    <tr>\n",
       "      <th>1423668</th>\n",
       "      <td>0.666667</td>\n",
       "      <td>1</td>\n",
       "      <td>0</td>\n",
       "      <td>0</td>\n",
       "      <td>0</td>\n",
       "      <td>0</td>\n",
       "      <td>0</td>\n",
       "      <td>0</td>\n",
       "      <td>0</td>\n",
       "      <td>1</td>\n",
       "      <td>...</td>\n",
       "      <td>0</td>\n",
       "      <td>1</td>\n",
       "      <td>0</td>\n",
       "      <td>0</td>\n",
       "      <td>0.500000</td>\n",
       "      <td>0.000000</td>\n",
       "      <td>0.639958</td>\n",
       "      <td>0.298865</td>\n",
       "      <td>0.000600</td>\n",
       "      <td>0.000000</td>\n",
       "    </tr>\n",
       "  </tbody>\n",
       "</table>\n",
       "<p>5 rows × 91 columns</p>\n",
       "</div>"
      ],
      "text/plain": [
       "             Year  1st_Road_Class_A  1st_Road_Class_A(M)  1st_Road_Class_B  \\\n",
       "8727     0.000000                 1                    0                 0   \n",
       "888664   0.333333                 1                    0                 0   \n",
       "979259   0.416667                 0                    0                 1   \n",
       "1922657  1.000000                 0                    0                 1   \n",
       "1423668  0.666667                 1                    0                 0   \n",
       "\n",
       "         1st_Road_Class_C  1st_Road_Class_Motorway  \\\n",
       "8727                    0                        0   \n",
       "888664                  0                        0   \n",
       "979259                  0                        0   \n",
       "1922657                 0                        0   \n",
       "1423668                 0                        0   \n",
       "\n",
       "         1st_Road_Class_Unclassified  \\\n",
       "8727                               0   \n",
       "888664                             0   \n",
       "979259                             0   \n",
       "1922657                            0   \n",
       "1423668                            0   \n",
       "\n",
       "         Carriageway_Hazards_Any animal in carriageway (except ridden horse)  \\\n",
       "8727                                                     0                     \n",
       "888664                                                   0                     \n",
       "979259                                                   0                     \n",
       "1922657                                                  0                     \n",
       "1423668                                                  0                     \n",
       "\n",
       "         Carriageway_Hazards_Data missing or out of range  \\\n",
       "8727                                                    0   \n",
       "888664                                                  0   \n",
       "979259                                                  0   \n",
       "1922657                                                 0   \n",
       "1423668                                                 0   \n",
       "\n",
       "         Carriageway_Hazards_None  ...  Season_autumn  Season_sprint  \\\n",
       "8727                            1  ...              0              0   \n",
       "888664                          1  ...              0              1   \n",
       "979259                          1  ...              0              0   \n",
       "1922657                         1  ...              0              1   \n",
       "1423668                         1  ...              0              1   \n",
       "\n",
       "         Season_summer  Season_winter  Speed_limit  Number_of_Casualties  \\\n",
       "8727                 0              1     0.333333              0.000000   \n",
       "888664               0              0     0.666667              0.046512   \n",
       "979259               0              1     0.333333              0.000000   \n",
       "1922657              0              0     0.333333              0.000000   \n",
       "1423668              0              0     0.500000              0.000000   \n",
       "\n",
       "         Longitude  Latitude  1st_Road_Number  Number_of_Vehicles  \n",
       "8727      0.810736  0.148437         0.101110            0.015152  \n",
       "888664    0.460357  0.139073         0.423142            0.015152  \n",
       "979259    0.666212  0.293930         0.601960            0.015152  \n",
       "1922657   0.809424  0.137017         0.025103            0.015152  \n",
       "1423668   0.639958  0.298865         0.000600            0.000000  \n",
       "\n",
       "[5 rows x 91 columns]"
      ]
     },
     "execution_count": 22,
     "metadata": {},
     "output_type": "execute_result"
    }
   ],
   "source": [
    "scale_cols=[\"Longitude\", \"Latitude\", 'Number_of_Casualties', \n",
    "            'Number_of_Vehicles', \"Speed_limit\", \"Year\", \"1st_Road_Number\"]\n",
    "scaler=preprocessing.MinMaxScaler()\n",
    "X_train[scale_cols]= scaler.fit_transform(X_train[scale_cols])\n",
    "X_val[scale_cols] = scaler.transform(X_val[scale_cols])\n",
    "X_test[scale_cols] = scaler.transform(X_test[scale_cols])\n",
    "X_train.head()\n"
   ]
  },
  {
   "cell_type": "markdown",
   "metadata": {},
   "source": [
    "## Gradient Boosted Classifier\n",
    "Gradient Boosted classifier first"
   ]
  },
  {
   "cell_type": "code",
   "execution_count": 23,
   "metadata": {
    "colab": {},
    "colab_type": "code",
    "id": "oqoFi9MTGnVr"
   },
   "outputs": [],
   "source": [
    "clf = GradientBoostingClassifier(n_estimators=20, learning_rate = 0.1, max_depth = 5, random_state = 0)"
   ]
  },
  {
   "cell_type": "markdown",
   "metadata": {},
   "source": [
    "Fit the Model"
   ]
  },
  {
   "cell_type": "code",
   "execution_count": 25,
   "metadata": {
    "colab": {
     "base_uri": "https://localhost:8080/",
     "height": 50
    },
    "colab_type": "code",
    "id": "Su5F1VisGphS",
    "outputId": "dae7857d-c835-4fd3-e49e-be6e044ee1f2"
   },
   "outputs": [
    {
     "name": "stdout",
     "output_type": "stream",
     "text": [
      "Accuracy score (training): 0.848\n",
      "Accuracy score (validation): 0.847\n"
     ]
    }
   ],
   "source": [
    "clf.fit(X_train, y_train)\n",
    "print(\"Accuracy score (training): {0:.3f}\".format(clf.score(X_train, y_train)))\n",
    "print(\"Accuracy score (validation): {0:.3f}\".format(clf.score(X_val, y_val)))"
   ]
  },
  {
   "cell_type": "markdown",
   "metadata": {},
   "source": [
    "These scores are ok, but given the amount of data we should be able to improve them.  \n",
    "Let's carry on for now and make some prediciton and check the classification report. "
   ]
  },
  {
   "cell_type": "markdown",
   "metadata": {},
   "source": [
    "Predict GBC"
   ]
  },
  {
   "cell_type": "code",
   "execution_count": 26,
   "metadata": {
    "colab": {},
    "colab_type": "code",
    "id": "GfOvV_FOGrGT"
   },
   "outputs": [],
   "source": [
    "y_val_preds  = clf.predict(X_val)"
   ]
  },
  {
   "cell_type": "markdown",
   "metadata": {},
   "source": [
    "Check the classification report and the feature importances"
   ]
  },
  {
   "cell_type": "code",
   "execution_count": 27,
   "metadata": {
    "colab": {},
    "colab_type": "code",
    "id": "7ayr8KnYGtgt"
   },
   "outputs": [
    {
     "name": "stdout",
     "output_type": "stream",
     "text": [
      "Classification Report: \n",
      "               precision    recall  f1-score   support\n",
      "\n",
      "       Fatal       0.00      0.00      0.00      5370\n",
      "     Serious       0.64      0.00      0.00     57272\n",
      "      Slight       0.85      1.00      0.92    346767\n",
      "\n",
      "    accuracy                           0.85    409409\n",
      "   macro avg       0.49      0.33      0.31    409409\n",
      "weighted avg       0.81      0.85      0.78    409409\n",
      "\n"
     ]
    }
   ],
   "source": [
    "report = classification_report(y_val, y_val_preds)\n",
    "print('Classification Report: \\n', report)"
   ]
  },
  {
   "cell_type": "markdown",
   "metadata": {},
   "source": [
    "The classification report shows poor performance in the minority classes 'Fatal' and 'Serious'. The macro averaged values are much lower than our reasonable accuracy scores above.  \n",
    "We need to develop the model to address the imbalances, but first let's have a look at the feature importances and try another type of classifier. "
   ]
  },
  {
   "cell_type": "code",
   "execution_count": 36,
   "metadata": {},
   "outputs": [
    {
     "data": {
      "text/plain": [
       "Text(0.5, 0, 'Relative Feature Importance with GBC')"
      ]
     },
     "execution_count": 36,
     "metadata": {},
     "output_type": "execute_result"
    },
    {
     "data": {
      "image/png": "[encoded data removed]",
      "text/plain": [
       "<Figure size 720x360 with 1 Axes>"
      ]
     },
     "metadata": {},
     "output_type": "display_data"
    }
   ],
   "source": [
    "feat_importances = pd.Series(clf.feature_importances_, index=X_train.columns)\n",
    "feat_importances.nlargest(10).sort_values().plot(kind='barh', color='darkgrey', figsize=(10,5))\n",
    "plt.xlabel('Relative Feature Importance with GBC')"
   ]
  },
  {
   "cell_type": "markdown",
   "metadata": {},
   "source": [
    "## Random Forest"
   ]
  },
  {
   "cell_type": "code",
   "execution_count": 31,
   "metadata": {},
   "outputs": [],
   "source": [
    "rf = RandomForestClassifier(random_state=0, criterion='entropy', n_jobs=-1, class_weight='balanced')"
   ]
  },
  {
   "cell_type": "markdown",
   "metadata": {},
   "source": [
    "Fit"
   ]
  },
  {
   "cell_type": "code",
   "execution_count": 32,
   "metadata": {},
   "outputs": [
    {
     "name": "stdout",
     "output_type": "stream",
     "text": [
      "Accuracy score (training): 1.000\n",
      "Accuracy score (validation): 0.844\n"
     ]
    }
   ],
   "source": [
    "rf.fit(X_train, y_train)\n",
    "print(\"Accuracy score (training): {0:.3f}\".format(rf.score(X_train, y_train)))\n",
    "print(\"Accuracy score (validation): {0:.3f}\".format(rf.score(X_val, y_val)))"
   ]
  },
  {
   "cell_type": "markdown",
   "metadata": {},
   "source": [
    "Predict Random Forest"
   ]
  },
  {
   "cell_type": "code",
   "execution_count": 33,
   "metadata": {},
   "outputs": [],
   "source": [
    "y_val_preds  = rf.predict(X_val)"
   ]
  },
  {
   "cell_type": "markdown",
   "metadata": {},
   "source": [
    "Check the classification report and the feature importances"
   ]
  },
  {
   "cell_type": "code",
   "execution_count": 34,
   "metadata": {},
   "outputs": [
    {
     "name": "stdout",
     "output_type": "stream",
     "text": [
      "Classification Report Random Forest: \n",
      "               precision    recall  f1-score   support\n",
      "\n",
      "       Fatal       0.08      0.00      0.00      5370\n",
      "     Serious       0.27      0.01      0.03     57272\n",
      "      Slight       0.85      0.99      0.92    346767\n",
      "\n",
      "    accuracy                           0.84    409409\n",
      "   macro avg       0.40      0.34      0.31    409409\n",
      "weighted avg       0.76      0.84      0.78    409409\n",
      "\n"
     ]
    }
   ],
   "source": [
    "report = classification_report(y_val, y_val_preds)\n",
    "print('Classification Report Random Forest: \\n', report)"
   ]
  },
  {
   "cell_type": "code",
   "execution_count": 35,
   "metadata": {},
   "outputs": [
    {
     "data": {
      "text/plain": [
       "Text(0.5, 0, 'Relative Feature Importance with Random Forest')"
      ]
     },
     "execution_count": 35,
     "metadata": {},
     "output_type": "execute_result"
    },
    {
     "data": {
      "image/png": "[encoded data removed]",
      "text/plain": [
       "<Figure size 720x360 with 1 Axes>"
      ]
     },
     "metadata": {},
     "output_type": "display_data"
    }
   ],
   "source": [
    "feat_importances = pd.Series(rf.feature_importances_, index=X_train.columns)\n",
    "feat_importances.nlargest(10).sort_values().plot(kind='barh', color='darkgrey', figsize=(10,5))\n",
    "plt.xlabel('Relative Feature Importance with Random Forest')"
   ]
  },
  {
   "cell_type": "markdown",
   "metadata": {},
   "source": [
    "## TBC"
   ]
  }
 ],
 "metadata": {
  "accelerator": "GPU",
  "colab": {
   "collapsed_sections": [],
   "name": "UK_Accidents_Classifier.ipynb",
   "provenance": []
  },
  "kernelspec": {
   "display_name": "Python 3",
   "language": "python",
   "name": "python3"
  },
  "language_info": {
   "codemirror_mode": {
    "name": "ipython",
    "version": 3
   },
   "file_extension": ".py",
   "mimetype": "text/x-python",
   "name": "python",
   "nbconvert_exporter": "python",
   "pygments_lexer": "ipython3",
   "version": "3.7.4"
  }
 },
 "nbformat": 4,
 "nbformat_minor": 1
}
